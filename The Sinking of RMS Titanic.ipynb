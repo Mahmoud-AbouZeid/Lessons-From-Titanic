{
 "cells": [
  {
   "cell_type": "markdown",
   "metadata": {
    "collapsed": true
   },
   "source": [
    "# THE Sinking of RMS Titanic\n",
    "- No doubt was a tragedy (word titanic reflects tragedy) \n",
    "- the pictures of men and women, exploding in fear, mixed feelings of fear, hope, love, anger, sadness and self blaming\n",
    "- it reflects mixed traits the arrogance, carlessness, courage, selfessness, and selfeshness\n",
    "- what made it more tragic is the fact that the boats were not enough to carry all the pessengers, under the claim that the titanic is unsinkable, and that a ship that big will not sink before another ship comes for rescue\n",
    "- what made it even worse is that the security guys allowed some boats to going half full..\n",
    "- in such difficult situations it's really hard to set rules or put strict criteria for the pessengers to be saved\n",
    "- the Captain of the titanic ordered that women and children be of higher priority, but were women and children given priority (or did the crew tend to give priority to women and children)? \n",
    "- of course they were not all women and children who were saved, many men were also saved, and many women couldn't make it\n",
    "- but how did the crew choose, what was the general criteria? \n",
    "- Was a priority given to men of first and/or second class? or was the priority given to men whose children had no one else in the world to live with them?\n",
    "\n",
    "we will try to answer the above questions through the [Titanic Data](https://d17h27t6h515a5.cloudfront.net/topher/2016/September/57e9a84c_titanic-data/titanic-data.csv), containing demographics and passenger information from 891 of the 2224 passengers and crew on board the Titanic. You can view a description of this dataset on the [Kaggle website](https://www.kaggle.com/c/titanic/data), where the data was obtained."
   ]
  }
 ],
 "metadata": {
  "anaconda-cloud": {},
  "kernelspec": {
   "display_name": "Python 2",
   "language": "python",
   "name": "python2"
  },
  "language_info": {
   "codemirror_mode": {
    "name": "ipython",
    "version": 2
   },
   "file_extension": ".py",
   "mimetype": "text/x-python",
   "name": "python",
   "nbconvert_exporter": "python",
   "pygments_lexer": "ipython2",
   "version": "2.7.12"
  }
 },
 "nbformat": 4,
 "nbformat_minor": 2
}
